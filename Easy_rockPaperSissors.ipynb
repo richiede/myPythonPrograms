{
 "cells": [
  {
   "cell_type": "markdown",
   "metadata": {},
   "source": [
    "<h1>Rock, Paper, Scissors"
   ]
  },
  {
   "cell_type": "markdown",
   "metadata": {},
   "source": [
    "**My full version**<br>This contains a computer random generated choice, some fail logic if incorrect choices are entered and an option to play or not."
   ]
  },
  {
   "cell_type": "code",
   "execution_count": 2,
   "metadata": {},
   "outputs": [
    {
     "name": "stdin",
     "output_type": "stream",
     "text": [
      "Hi, what's your name?  Rich\n",
      "Well hi Rich, welcome to the rock, paper, scissors game! Do you want to play? yes or no:  yes\n"
     ]
    },
    {
     "name": "stdout",
     "output_type": "stream",
     "text": [
      "It's on!\n"
     ]
    },
    {
     "name": "stdin",
     "output_type": "stream",
     "text": [
      "OK Rich, please choose rock, paper or scissors:  rock\n"
     ]
    },
    {
     "name": "stdout",
     "output_type": "stream",
     "text": [
      "Computer played rock\n",
      "It's a draw!\n"
     ]
    }
   ],
   "source": [
    "import sys, random\n",
    "moveChoice = ['rock', 'paper', 'scissors']\n",
    "\n",
    "playerName = input('Hi, what\\'s your name? ')\n",
    "wannaPlay = input('Well hi ' + playerName + ', welcome to the rock, paper, scissors game! Do you want to play? yes or no: ')\n",
    "if wannaPlay == 'no':\n",
    "    print('OK bye.')\n",
    "    sys.exit()\n",
    "elif wannaPlay == 'yes':\n",
    "    print('It\\'s on!')\n",
    "else:\n",
    "    print('Something went wrong - maybe you can\\'t type.... Bye.')\n",
    "    sys.exit()\n",
    "\n",
    "computerMove = random.choice(moveChoice)\n",
    "\n",
    "playerMove = input('OK ' + playerName + ', please choose rock, paper or scissors: ')\n",
    "while playerMove not in ['rock', 'paper', 'scissors']:\n",
    "    playerMove = input('OK that\\'s not right. Try again please. Choose rock, paper or scissors: ')\n",
    "    \n",
    "print('Computer played ' + computerMove)\n",
    "\n",
    "if playerMove == computerMove:\n",
    "    print('It\\'s a draw!')\n",
    "elif playerMove == 'rock' and computerMove == 'scissors':\n",
    "    print('You win')\n",
    "elif playerMove == 'paper' and computerMove == 'rock':\n",
    "    print('You win')\n",
    "elif playerMove == 'scissors' and computerMove == 'paper':\n",
    "    print('You win')\n",
    "else:\n",
    "    print('Computer wins')"
   ]
  },
  {
   "cell_type": "code",
   "execution_count": null,
   "metadata": {},
   "outputs": [],
   "source": []
  }
 ],
 "metadata": {
  "kernelspec": {
   "display_name": "Python 3",
   "language": "python",
   "name": "python3"
  },
  "language_info": {
   "codemirror_mode": {
    "name": "ipython",
    "version": 3
   },
   "file_extension": ".py",
   "mimetype": "text/x-python",
   "name": "python",
   "nbconvert_exporter": "python",
   "pygments_lexer": "ipython3",
   "version": "3.8.3"
  }
 },
 "nbformat": 4,
 "nbformat_minor": 4
}
