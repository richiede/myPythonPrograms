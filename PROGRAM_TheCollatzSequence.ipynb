{
 "cells": [
  {
   "cell_type": "markdown",
   "metadata": {},
   "source": [
    "<h1>The Collatz Sequence"
   ]
  },
  {
   "cell_type": "markdown",
   "metadata": {},
   "source": [
    "The Collatz Sequence is a sequence where an initial number is selected and then:\n",
    "1) If that number is even, it is divided by 2\n",
    "2) If the number is odd, it is multiplied by 3 and 1 added to it\n",
    "\n",
    "This then repeats as it eventually reduces down to 1."
   ]
  },
  {
   "cell_type": "markdown",
   "metadata": {},
   "source": [
    "From the below, I'm defining a function that has a number parameter. When the function is called with a number parameter passed to it, it then enters the While loop. This logic runs that when it's even it is divided by 2 and when it is odd, it is multipled by 3 and 1 added to it. The while loop runs only when the number doesn't or I should say hasn't evaluated down to 1. When it has eventually evaluated down to 1, it then exits the loop. "
   ]
  },
  {
   "cell_type": "code",
   "execution_count": 4,
   "metadata": {},
   "outputs": [
    {
     "name": "stdin",
     "output_type": "stream",
     "text": [
      "Choose a number! 17\n"
     ]
    },
    {
     "name": "stdout",
     "output_type": "stream",
     "text": [
      "52\n",
      "26\n",
      "13\n",
      "40\n",
      "20\n",
      "10\n",
      "5\n",
      "16\n",
      "8\n",
      "4\n",
      "2\n",
      "1\n"
     ]
    }
   ],
   "source": [
    "def collatz(number):\n",
    "    while number != 1:\n",
    "        if number % 2 == 0:\n",
    "            print(number // 2)\n",
    "            number = number // 2\n",
    "        else:\n",
    "            result = 3 * number + 1\n",
    "            print(result)\n",
    "            number = result\n",
    "\n",
    "chosenNumber = input('Choose a number!')\n",
    "collatz(int(chosenNumber))"
   ]
  },
  {
   "cell_type": "code",
   "execution_count": null,
   "metadata": {},
   "outputs": [],
   "source": []
  }
 ],
 "metadata": {
  "kernelspec": {
   "display_name": "Python 3",
   "language": "python",
   "name": "python3"
  },
  "language_info": {
   "codemirror_mode": {
    "name": "ipython",
    "version": 3
   },
   "file_extension": ".py",
   "mimetype": "text/x-python",
   "name": "python",
   "nbconvert_exporter": "python",
   "pygments_lexer": "ipython3",
   "version": "3.8.3"
  }
 },
 "nbformat": 4,
 "nbformat_minor": 4
}
