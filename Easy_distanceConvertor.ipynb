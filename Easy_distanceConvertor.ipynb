{
 "cells": [
  {
   "cell_type": "markdown",
   "metadata": {},
   "source": [
    "<h1>Distance convertor"
   ]
  },
  {
   "cell_type": "markdown",
   "metadata": {},
   "source": [
    "This is a simple distance calculator for miles to km or vise versa. "
   ]
  },
  {
   "cell_type": "markdown",
   "metadata": {},
   "source": [
    "The only module to import is decimal as we need to round up the result to make it more reader friendly.<br>There's a while loop in case the user can't enter m or km. Some basic if/elif/else logic to see how many miles/km to convert."
   ]
  },
  {
   "cell_type": "code",
   "execution_count": 1,
   "metadata": {},
   "outputs": [
    {
     "name": "stdout",
     "output_type": "stream",
     "text": [
      "Welcome to my distance conversion program!\n"
     ]
    },
    {
     "name": "stdin",
     "output_type": "stream",
     "text": [
      "Enter(m) to enter miles for conversion or (km) for kilometers:  p\n",
      "Please check your typing. Enter (m) for miles to convert or(km) for kilometers:  km\n"
     ]
    },
    {
     "name": "stdout",
     "output_type": "stream",
     "text": [
      "OK, let's convert some kilometers to miles! How many kilometers do you want to convert?\n"
     ]
    },
    {
     "name": "stdin",
     "output_type": "stream",
     "text": [
      " 100\n"
     ]
    },
    {
     "name": "stdout",
     "output_type": "stream",
     "text": [
      "Alrighty then! You have chose to convert 100km. The conversion makes that 62.14 miles.\n"
     ]
    }
   ],
   "source": [
    "import decimal\n",
    "\n",
    "print('Welcome to my distance conversion program!')\n",
    "\n",
    "initial = input('Enter(m) to enter miles for conversion or (km) for kilometers: ')\n",
    "while initial not in ['m', 'km']:\n",
    "    initial = input('Please check your typing. Enter (m) for miles to convert or(km) for kilometers: ')\n",
    "\n",
    "if initial == 'm':\n",
    "    print('OK, let\\'s convert some miles to kilometers! How many miles do you want to convert?')\n",
    "    milesToConvert = input()\n",
    "    kmConversion = float(milesToConvert) * 1.60934\n",
    "    print('Alrighty then! You have chose to convert ' + str(milesToConvert) + ' miles. The conversion makes that ' + str(round(kmConversion, 2)) + 'km.')\n",
    "elif initial == 'km':\n",
    "    print('OK, let\\'s convert some kilometers to miles! How many kilometers do you want to convert?')\n",
    "    kmToConvert = input()\n",
    "    mileConversion = float(kmToConvert) / 1.60934\n",
    "    print('Alrighty then! You have chose to convert ' + str(kmToConvert) + 'km. The conversion makes that ' + str(round(mileConversion, 2)) + ' miles.')\n",
    "else:\n",
    "    print('Well you didn\\'t type m for miles or km for kilometers so the program needs to end. Well done... not...')"
   ]
  },
  {
   "cell_type": "code",
   "execution_count": null,
   "metadata": {},
   "outputs": [],
   "source": []
  }
 ],
 "metadata": {
  "kernelspec": {
   "display_name": "Python 3",
   "language": "python",
   "name": "python3"
  },
  "language_info": {
   "codemirror_mode": {
    "name": "ipython",
    "version": 3
   },
   "file_extension": ".py",
   "mimetype": "text/x-python",
   "name": "python",
   "nbconvert_exporter": "python",
   "pygments_lexer": "ipython3",
   "version": "3.8.3"
  }
 },
 "nbformat": 4,
 "nbformat_minor": 4
}
