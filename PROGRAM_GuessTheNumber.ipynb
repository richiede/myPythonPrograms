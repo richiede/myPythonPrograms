{
 "cells": [
  {
   "cell_type": "markdown",
   "metadata": {},
   "source": [
    "<h1>My guess the Number Game"
   ]
  },
  {
   "cell_type": "markdown",
   "metadata": {},
   "source": [
    "**This is a guess the number game. The player has to guess the number between 1 and 20. They have 5 guesses to get it right!**"
   ]
  },
  {
   "cell_type": "markdown",
   "metadata": {},
   "source": [
    "In this program I've imported the random module and used random.randint to select the secret number at the start of the game. There is a commented line to uncomment for testing/debugging. \n",
    "\n",
    "I'm using a for loop to iterate over the range of 5 so the player has 5 guesses.\n",
    "\n",
    "I will create further iterations of this with more logic. I want to add an option to play again to repeat and some fail logic - like the user has to enter a name and not a blank string, int, float etc. "
   ]
  },
  {
   "cell_type": "code",
   "execution_count": 9,
   "metadata": {},
   "outputs": [],
   "source": [
    "import random"
   ]
  },
  {
   "cell_type": "code",
   "execution_count": 7,
   "metadata": {},
   "outputs": [
    {
     "name": "stdout",
     "output_type": "stream",
     "text": [
      "Hi, welcome to the guess the number game! What is your name?\n"
     ]
    },
    {
     "name": "stdin",
     "output_type": "stream",
     "text": [
      " Cheech\n"
     ]
    },
    {
     "name": "stdout",
     "output_type": "stream",
     "text": [
      "OK then Cheech, let's play the game! I'm thinking of a number between 1 and 20. You have 5 guesses to get it right!\n"
     ]
    }
   ],
   "source": [
    "print('Hi, welcome to the guess the number game! What is your name?')\n",
    "playerName = input()\n",
    "print('OK then %s, let\\'s play the game! I\\'m thinking of a number between 1 and 20. You have 5 guesses to get it right!' %playerName)"
   ]
  },
  {
   "cell_type": "code",
   "execution_count": 12,
   "metadata": {},
   "outputs": [],
   "source": [
    "actualNumber = random.randint(1,21)\n",
    "# **Uncomment to DEBUG ** print(actualNumber)"
   ]
  },
  {
   "cell_type": "code",
   "execution_count": 13,
   "metadata": {},
   "outputs": [
    {
     "name": "stdout",
     "output_type": "stream",
     "text": [
      "Take a guess\n"
     ]
    },
    {
     "name": "stdin",
     "output_type": "stream",
     "text": [
      " 5\n"
     ]
    },
    {
     "name": "stdout",
     "output_type": "stream",
     "text": [
      "That's too high. Guess again.\n",
      "Take a guess\n"
     ]
    },
    {
     "name": "stdin",
     "output_type": "stream",
     "text": [
      " 3\n"
     ]
    },
    {
     "name": "stdout",
     "output_type": "stream",
     "text": [
      "That's too high. Guess again.\n",
      "Take a guess\n"
     ]
    },
    {
     "name": "stdin",
     "output_type": "stream",
     "text": [
      " 1\n"
     ]
    },
    {
     "name": "stdout",
     "output_type": "stream",
     "text": [
      "Well done you guess it correctly!\n",
      "Game Over!\n"
     ]
    }
   ],
   "source": [
    "numberOfGuesses = 0\n",
    "for i in range(5):\n",
    "    if numberOfGuesses < 5:\n",
    "        print('Take a guess')\n",
    "        guess = input()\n",
    "        if guess == str(actualNumber):\n",
    "            print('Well done you guess it correctly!')\n",
    "            break\n",
    "        elif guess < str(actualNumber):\n",
    "            print('That\\'s too low. Guess again.')\n",
    "        elif guess > str(actualNumber):\n",
    "            print('That\\'s too high. Guess again.')\n",
    "        else:\n",
    "            print('You\\'re out of guesses!')\n",
    "        numberOfGuesses += 1\n",
    "        \n",
    "print('Game Over!')"
   ]
  },
  {
   "cell_type": "code",
   "execution_count": null,
   "metadata": {},
   "outputs": [],
   "source": []
  }
 ],
 "metadata": {
  "kernelspec": {
   "display_name": "Python 3",
   "language": "python",
   "name": "python3"
  },
  "language_info": {
   "codemirror_mode": {
    "name": "ipython",
    "version": 3
   },
   "file_extension": ".py",
   "mimetype": "text/x-python",
   "name": "python",
   "nbconvert_exporter": "python",
   "pygments_lexer": "ipython3",
   "version": "3.8.3"
  }
 },
 "nbformat": 4,
 "nbformat_minor": 4
}
